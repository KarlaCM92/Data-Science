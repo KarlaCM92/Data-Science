<center>
    <img src="https://cf-courses-data.s3.us.cloud-object-storage.appdomain.cloud/IBMDeveloperSkillsNetwork-DS0105EN-SkillsNetwork/labs/Module2/images/SN_web_lightmode.png" width="300" alt="cognitiveclass.ai logo">
</center>
{
 "cells": [
  {
   "cell_type": "markdown",
   "id": "b6c1a639-71e7-433d-b8a0-11619f18659f",
   "metadata": {},
   "source": [
    "# Data Science Tools and Ecosystem"
   ]
  },
  {
   "cell_type": "markdown",
   "id": "4d376580-d83c-43ec-9cf6-767d1404f395",
   "metadata": {},
   "source": [
    "# Introduction  \n",
    "\n",
    "In this notebook, Data Science Tools and Ecosystem are summarized.  "
   ]
  },
  {
   "cell_type": "markdown",
   "id": "14237b2b-1461-49d0-b3d4-09d6753a741a",
   "metadata": {},
   "source": [
    "## **Objectives**  \n",
    "\n",
    "- List popular languages for Data Science  \n",
    "- List popular libraries for Data Science \n",
    "- List popular tools for Data Science  \n",
    "- Basic arithmetic operations in Python  \n",
    "- Convert minutes to hours using Python  \n"
   ]
  },
  {
   "cell_type": "markdown",
   "id": "42642998-3b2b-4bf3-adbe-8d3e575191ba",
   "metadata": {},
   "source": [
    "## Data Science Languages  \n",
    "\n",
    "Some of the popular languages that Data Scientists use are:  \n",
    "\n",
    "1. Python  \n",
    "2. R  \n",
    "3. SQL  \n",
    "4. Julia  \n",
    "5. Scala  \n"
   ]
  },
  {
   "cell_type": "markdown",
   "id": "136dcf81-73a9-43f6-ae75-5a4c992a06a1",
   "metadata": {},
   "source": [
    "## Data science libraries \n",
    "Some of the commonly used libraries used by Data Scientists include: "
   ]
  },
  {
   "cell_type": "markdown",
   "id": "e2b76486-35ff-467c-a25b-4545e564c145",
   "metadata": {},
   "source": [
    "1. Pandas\n",
    "2. Numpy\n",
    "3. TensorFlow\n",
    "5. ggplot\n"
   ]
  },
  {
   "cell_type": "markdown",
   "id": "b68ee2fe-ba24-445c-9537-395d9f0baa4e",
   "metadata": {},
   "source": [
    "## Data Sciences tools\n",
    "\n",
    "| Data Science Tools |\n",
    "|--------------------|\n",
    "| Jupyter Notebook  |\n",
    "| RStudio          |\n",
    "| Apache Zeppelin  |"
   ]
  },
  {
   "cell_type": "markdown",
   "id": "38a254f0-dcf1-48ee-8275-6548b017e2c3",
   "metadata": {},
   "source": [
    "## Introducing arithmetic expression examples\n",
    "\n",
    "### Bellow are a few examples of evaluating arithmetic expressions in Python"
   ]
  },
  {
   "cell_type": "code",
   "execution_count": 18,
   "id": "e23ac062-7362-40ea-8d31-984d484fc8c7",
   "metadata": {},
   "outputs": [
    {
     "data": {
      "text/plain": [
       "17"
      ]
     },
     "execution_count": 18,
     "metadata": {},
     "output_type": "execute_result"
    }
   ],
   "source": [
    "#This a simple arithmetic expression to mutiply then add integers\n",
    "(3*4)+5"
   ]
  },
  {
   "cell_type": "code",
   "execution_count": 20,
   "id": "5704d619-af99-4171-8e8a-d7675160eb7c",
   "metadata": {},
   "outputs": [
    {
     "data": {
      "text/plain": [
       "3.3333333333333335"
      ]
     },
     "execution_count": 20,
     "metadata": {},
     "output_type": "execute_result"
    }
   ],
   "source": [
    "# This will convert 200 minutes to hours by dividing by 60\n",
    "minutes = 200\n",
    "hours = minutes / 60\n",
    "hours"
   ]
  },
  {
   "cell_type": "markdown",
   "id": "63142a45-8c49-40c4-a32b-d61a05bca8b6",
   "metadata": {},
   "source": [
    "## Author: \n",
    "Karla Cruz"
   ]
  },
  {
   "cell_type": "code",
   "execution_count": null,
   "id": "1b13bc81-a981-414d-aff4-29962db8f286",
   "metadata": {},
   "outputs": [],
   "source": []
  }
 ],
 "metadata": {
  "kernelspec": {
   "display_name": "Python [conda env:base] *",
   "language": "python",
   "name": "conda-base-py"
  },
  "language_info": {
   "codemirror_mode": {
    "name": "ipython",
    "version": 3
   },
   "file_extension": ".py",
   "mimetype": "text/x-python",
   "name": "python",
   "nbconvert_exporter": "python",
   "pygments_lexer": "ipython3",
   "version": "3.12.7"
  }
 },
 "nbformat": 4,
 "nbformat_minor": 5
}
